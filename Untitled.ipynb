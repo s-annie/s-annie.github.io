{
 "cells": [
  {
   "cell_type": "code",
   "execution_count": 1,
   "id": "ab355ef6",
   "metadata": {},
   "outputs": [
    {
     "name": "stdout",
     "output_type": "stream",
     "text": [
      "Gemfile         _config.yml     \u001b[1m\u001b[36m_posts\u001b[m\u001b[m/         about.md        projects.md\r\n",
      "Gemfile.lock    \u001b[1m\u001b[36m_data\u001b[m\u001b[m/          \u001b[1m\u001b[36m_project\u001b[m\u001b[m/       \u001b[1m\u001b[36mcategory\u001b[m\u001b[m/       sitemap.xml\r\n",
      "LICENSE         \u001b[1m\u001b[36m_includes\u001b[m\u001b[m/      \u001b[1m\u001b[36m_sass\u001b[m\u001b[m/          feed.xml        \u001b[1m\u001b[36mstatic\u001b[m\u001b[m/\r\n",
      "Untitled.ipynb  \u001b[1m\u001b[36m_layouts\u001b[m\u001b[m/       \u001b[1m\u001b[36m_site\u001b[m\u001b[m/          index.html\r\n"
     ]
    }
   ],
   "source": [
    "ls"
   ]
  },
  {
   "cell_type": "code",
   "execution_count": 2,
   "id": "b84cd2f2",
   "metadata": {},
   "outputs": [],
   "source": [
    "!touch test.txt"
   ]
  },
  {
   "cell_type": "code",
   "execution_count": 3,
   "id": "ed78796e",
   "metadata": {},
   "outputs": [],
   "source": [
    "!echo \"test1\\n test2\\n test3\" >> test.txt"
   ]
  },
  {
   "cell_type": "code",
   "execution_count": 4,
   "id": "885b03fc",
   "metadata": {},
   "outputs": [
    {
     "name": "stdout",
     "output_type": "stream",
     "text": [
      "test1\r\n",
      " test2\r\n",
      " test3\r\n"
     ]
    }
   ],
   "source": [
    "!cat test.txt"
   ]
  },
  {
   "cell_type": "code",
   "execution_count": 10,
   "id": "d9f240de",
   "metadata": {},
   "outputs": [
    {
     "name": "stdout",
     "output_type": "stream",
     "text": [
      "t\n"
     ]
    }
   ],
   "source": [
    "with open(\"test.txt\") as f:\n",
    "    s = f.readline(1)\n",
    "    print(s)"
   ]
  },
  {
   "cell_type": "code",
   "execution_count": null,
   "id": "b29095f7",
   "metadata": {},
   "outputs": [],
   "source": []
  }
 ],
 "metadata": {
  "kernelspec": {
   "display_name": "Python 3",
   "language": "python",
   "name": "python3"
  },
  "language_info": {
   "codemirror_mode": {
    "name": "ipython",
    "version": 3
   },
   "file_extension": ".py",
   "mimetype": "text/x-python",
   "name": "python",
   "nbconvert_exporter": "python",
   "pygments_lexer": "ipython3",
   "version": "3.8.3"
  }
 },
 "nbformat": 4,
 "nbformat_minor": 5
}
